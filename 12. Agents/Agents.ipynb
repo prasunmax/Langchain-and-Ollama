{
 "cells": [
  {
   "cell_type": "markdown",
   "metadata": {},
   "source": [
    "# Announcement-on-ML\n",
    "<a href='http://www.kgptalkie.com' target=\"_blank\"> <img src='https://github.com/laxmimerit/Important-Announcement-on-ML/raw/master/kgptalkie_strips.png'/></a>\n",
    "\n",
    "# ML Resources\n",
    "|  ML Course | Description |\n",
    "|:---|:---|\n",
    "| [**Deploy LLM App with Ollama and Langchain in Production**](https://www.udemy.com/course/ollama-and-langchain/?referralCode=7F4C0C7B8CF223BA9327) | Master Langchain v0.3, Private Chatbot, Deploy LLM App.  Ollama, LLAMA, LLAMA 3.2, FAISS, RAG, Deploy RAG, Gen AI, LLM|\n",
    "| [**Fine Tuning LLM with HuggingFace Transformers for NLP**](https://www.udemy.com/course/fine-tuning-llm-with-hugging-face-transformers/?referralCode=6DEB3BE17C2644422D8E) | Learn how to fine tune LLM with custom dataset. You will learn basics of transformers then fine tune LLM|\n",
    "| [**Data Visualization in Python Masterclass™: Beginners to Pro**](https://bit.ly/udemy95off_kgptalkie) |  Learn to build Machine Learning and Deep Learning models using Python and its libraries like Scikit-Learn, Keras, and TensorFlow. |\n",
    "| [**Python for Machine Learning: A Step-by-Step Guide**](https://bit.ly/ml-ds-project) | Learn to build Machine Learning and Deep Learning models using Python and its libraries like Scikit-Learn, Keras, and TensorFlow. |\n",
    "| [**Deep Learning for Beginners with Python**](https://bit.ly/dl-with-python) | Neural Networks, TensorFlow, ANN, CNN, RNN, LSTM, Transfer Learning and Much More. |\n",
    "| [**Python for Linear Regression in Machine Learning**](https://bit.ly/regression-python) | Learn to build Linear Regression models using Python and its libraries like Scikit-Learn. |\n",
    "| [**Introduction to Spacy 3 for Natural Language Processing**](https://bit.ly/spacy-intro) | Learn to build Natural Language Processing models using Python and its libraries like Spacy. |\n",
    "| [**Advanced Machine Learning and Deep Learning Projects**](https://bit.ly/kgptalkie_ml_projects) | Learn to build Advanced Machine Learning and Deep Learning models using Python and transformer models like BERT, GPT-2, and XLNet. |\n",
    "| [**Natural Language Processing in Python for Beginners**](https://bit.ly/intro_nlp) | Learn to build Natural Language Processing Projects using Spacy, NLTK, and Gensim, and transformer models like BERT, GPT-2, and XLNet. |\n",
    "| [**Deployment of Machine Learning Models in Production in Python**](https://bit.ly/bert_nlp) |  Learn to deploy Machine Learning and Deep Learning models using Python and its libraries like Flask, Streamlit, and NGINX. |\n",
    "| [**R 4.0 Programming for Data Science - Beginners to Pro**](https://bit.ly/r4-ml) | Learn to build Machine Learning and Deep Learning models using R and its libraries like caret, tidyverse, and keras. |\n"
   ]
  },
  {
   "cell_type": "markdown",
   "metadata": {},
   "source": [
    "## Agents\n",
    "### Your Personal Health Expert "
   ]
  },
  {
   "cell_type": "markdown",
   "metadata": {},
   "source": [
    "- Agents are systems that use an LLM as a reasoning engine to determine which actions to take and what the inputs to those actions should be.\n",
    "- The results of those actions can then be fed back into the agent and it determines whether more actions are needed, or whether it is okay to finish."
   ]
  },
  {
   "cell_type": "code",
   "metadata": {
    "ExecuteTime": {
     "end_time": "2025-01-26T06:30:03.949247Z",
     "start_time": "2025-01-26T06:30:03.927085Z"
    }
   },
   "source": [
    "from dotenv import load_dotenv\n",
    "import os\n",
    "\n",
    "os.environ['KMP_DUPLICATE_LIB_OK'] = 'True'\n",
    "\n",
    "load_dotenv()"
   ],
   "outputs": [
    {
     "data": {
      "text/plain": [
       "True"
      ]
     },
     "execution_count": 1,
     "metadata": {},
     "output_type": "execute_result"
    }
   ],
   "execution_count": 1
  },
  {
   "cell_type": "code",
   "metadata": {
    "ExecuteTime": {
     "end_time": "2025-01-26T06:33:31.709905Z",
     "start_time": "2025-01-26T06:33:23.679831Z"
    }
   },
   "source": [
    "from langchain_ollama import ChatOllama \n",
    "from langchain_core.output_parsers import StrOutputParser\n",
    "from langchain_core.runnables import RunnablePassthrough \n",
    "from langchain_core.prompts import ChatPromptTemplate\n",
    "\n",
    "from langchain_core.tools import tool\n",
    "\n",
    "\n",
    "llm = ChatOllama(model='llama3.2:3b', base_url='http://localhost:11434')\n",
    "llm.invoke('hi')"
   ],
   "outputs": [
    {
     "data": {
      "text/plain": [
       "AIMessage(content='How can I assist you today?', additional_kwargs={}, response_metadata={'model': 'llama3.2:3b', 'created_at': '2025-01-26T06:33:31.707268463Z', 'message': {'role': 'assistant', 'content': ''}, 'done_reason': 'stop', 'done': True, 'total_duration': 5317548752, 'load_duration': 5050559284, 'prompt_eval_count': 26, 'prompt_eval_duration': 134000000, 'eval_count': 8, 'eval_duration': 131000000}, id='run-85e24e8e-9cc5-4513-a81f-34426892c5b2-0', usage_metadata={'input_tokens': 26, 'output_tokens': 8, 'total_tokens': 34})"
      ]
     },
     "execution_count": 2,
     "metadata": {},
     "output_type": "execute_result"
    }
   ],
   "execution_count": 2
  },
  {
   "cell_type": "markdown",
   "metadata": {},
   "source": [
    "### Define Tools\n",
    "#### 1. Tavily"
   ]
  },
  {
   "cell_type": "code",
   "metadata": {
    "ExecuteTime": {
     "end_time": "2025-01-26T06:34:08.195944Z",
     "start_time": "2025-01-26T06:34:07.937964Z"
    }
   },
   "source": [
    "from langchain_community.tools import TavilySearchResults\n",
    "\n",
    "@tool\n",
    "def search(query: str) -> str:\n",
    "    \"\"\"\n",
    "    Search the web for realtime and latest information.\n",
    "    for examples, news, stock market, weather updates etc.\n",
    "    \n",
    "    Args:\n",
    "    query: The search query\n",
    "    \"\"\"\n",
    "    \n",
    "    search = TavilySearchResults(\n",
    "        max_results=5,\n",
    "        search_depth=\"advanced\",\n",
    "        include_answer=True,\n",
    "        include_raw_content=True,\n",
    "    )\n",
    "    response = search.invoke(query)\n",
    "    return response"
   ],
   "outputs": [],
   "execution_count": 3
  },
  {
   "cell_type": "markdown",
   "metadata": {},
   "source": [
    "#### 2. Health Supplements Retriever"
   ]
  },
  {
   "cell_type": "code",
   "metadata": {
    "ExecuteTime": {
     "end_time": "2025-01-26T06:34:14.720453Z",
     "start_time": "2025-01-26T06:34:16.253793Z"
    }
   },
   "source": [
    "from langchain_ollama import OllamaEmbeddings\n",
    "\n",
    "import faiss\n",
    "from langchain_community.vectorstores import FAISS \n",
    "from langchain_community.docstore.in_memory import InMemoryDocstore"
   ],
   "outputs": [],
   "execution_count": 4
  },
  {
   "cell_type": "code",
   "metadata": {
    "ExecuteTime": {
     "end_time": "2025-01-26T06:35:00.456798Z",
     "start_time": "2025-01-26T06:35:00.286526Z"
    }
   },
   "source": [
    "embeddings = OllamaEmbeddings(model='nomic-embed-text', base_url='http://localhost:11434')\n",
    "\n",
    "db_name = r\"../09. Vector Stores and Retrievals/health_supplements\"\n",
    "vector_store = FAISS.load_local(db_name, embeddings, allow_dangerous_deserialization=True)\n",
    "\n",
    "retriever = vector_store.as_retriever(search_type = 'similarity', \n",
    "                                      search_kwargs = {'k': 3})"
   ],
   "outputs": [],
   "execution_count": 6
  },
  {
   "cell_type": "code",
   "metadata": {
    "ExecuteTime": {
     "end_time": "2025-01-26T06:35:16.053047Z",
     "start_time": "2025-01-26T06:35:16.001184Z"
    }
   },
   "source": [
    "@tool\n",
    "def health_supplements(query: str) -> str:\n",
    "    \"\"\"Search for information about Health Supplements.\n",
    "    For any questions about Health and Gym Supplements, you must use this tool!,\n",
    "\n",
    "    Args:\n",
    "        query: The search query.\n",
    "    \"\"\"\n",
    "    response = retriever.invoke(query)\n",
    "    return response"
   ],
   "outputs": [],
   "execution_count": 7
  },
  {
   "cell_type": "code",
   "metadata": {
    "ExecuteTime": {
     "end_time": "2025-01-26T06:36:16.099832Z",
     "start_time": "2025-01-26T06:36:14.663337Z"
    }
   },
   "source": [
    "health_supplements.invoke(\"what is the best supplement for muscle gain?\")"
   ],
   "outputs": [
    {
     "data": {
      "text/plain": [
       "[Document(id='7ceac407-ed13-4e20-9135-607c56550292', metadata={'source': 'rag-dataset/gym supplements/1. Analysis of Actual Fitness Supplement.pdf', 'file_path': 'rag-dataset/gym supplements/1. Analysis of Actual Fitness Supplement.pdf', 'page': 0, 'total_pages': 15, 'format': 'PDF 1.7', 'title': '', 'author': '', 'subject': '', 'keywords': '', 'creator': '', 'producer': 'iLovePDF', 'creationDate': '', 'modDate': 'D:20241021113850Z', 'trapped': ''}, page_content='acids than traditional protein sources. Its numerous benefits have made it a popular choice\\nfor snacks and drinks among consumers [3]. Another widely embraced supplement is\\ncaffeine, which is found in many sports and food supplements. Caffeine reduces perceived\\neffort, minimizes fatigue and pain, and proves to be effective for endurance and high-\\nintensity activities, which is the choice of consumers [4].\\nCreatine monohydrate is another well-known supplement used to gain muscle mass\\nand support performance and recovery. It is known not to increase fat mass and remains\\neffective even when taken in recommended doses [5]. Despite its popularity in the fitness\\nFoods 2024, 13, 1424. https://doi.org/10.3390/foods13091424\\nhttps://www.mdpi.com/journal/foods'),\n",
       " Document(id='d4396537-de0e-454c-9ee9-1ca61aef9714', metadata={'source': 'rag-dataset/gym supplements/1. Analysis of Actual Fitness Supplement.pdf', 'file_path': 'rag-dataset/gym supplements/1. Analysis of Actual Fitness Supplement.pdf', 'page': 1, 'total_pages': 15, 'format': 'PDF 1.7', 'title': '', 'author': '', 'subject': '', 'keywords': '', 'creator': '', 'producer': 'iLovePDF', 'creationDate': '', 'modDate': 'D:20241021113850Z', 'trapped': ''}, page_content='Foods 2024, 13, 1424\\n2 of 21\\nand sports industry, evidence suggests that creatine can benefit not only athletes but also\\nthe elderly and the general population [6]. Branched-chain amino acids (BCAA) also offer\\na plethora of benefits for consumers. As explained by Sanz et al. [7], BCAAs are stored\\ndirectly in muscles and serve as the raw materials needed to build new muscle. This\\ncontributes to the overall process of strengthening muscles and alleviating post-workout\\nsoreness. Consumers often integrate these supplements into their routines with the aim of\\noptimizing the outcomes they wish to achieve and support overall well-being [1].\\nThe sports supplement industry makes for an impressive market share of nearly\\n$12 billion in the health/wellness portfolio and is projected to be worth $24.4 billion\\nby 2025. In a study by Burke [4], which investigated 20 published studies about the\\nprevalence, methods, and reasons for supplement consumption, it is evident from the'),\n",
       " Document(id='ee5c3394-2de6-4ad3-acaf-9ff12ed824f4', metadata={'source': 'rag-dataset/gym supplements/2. High Prevalence of Supplement Intake.pdf', 'file_path': 'rag-dataset/gym supplements/2. High Prevalence of Supplement Intake.pdf', 'page': 6, 'total_pages': 11, 'format': 'PDF 1.5', 'title': '', 'author': '', 'subject': '', 'keywords': '', 'creator': '', 'producer': 'iLovePDF', 'creationDate': '', 'modDate': 'D:20241021113904Z', 'trapped': ''}, page_content='3.4. Reasons for Supplement Intake\\nThe three most important reasons to take supplements were muscle building (49%), improving\\nhealth (47%), and improving sport-speciﬁc performance (28%) (Figure 3).\\nNutrients 2020, 12, x FOR PEER REVIEW \\n8 of 14 \\n \\nFigure 3. Reasons for supplement use. g: Indicates significant gender effect (p < 0.05). Multiple \\nanswers were possible. \\n3.5. Information Sources \\nRegarding used information sources, the top three were the coach/trainer (28%), the website of \\nthe supplement seller (26%), and training peers (24%) (Figure 4). On average 2.2 information sources \\nwere indicated by the fitness center users. The question regarding information about risks and side \\neffects was answered by 315 subjects. Only 117 (37%) of these had received information regarding \\npotential risks and side effects of the consumed supplements. The three leading information sources \\nfor risks and side effects were the internet, physicians, and coaches/trainers. When subjects answered')]"
      ]
     },
     "execution_count": 8,
     "metadata": {},
     "output_type": "execute_result"
    }
   ],
   "execution_count": 8
  },
  {
   "cell_type": "code",
   "execution_count": null,
   "metadata": {},
   "outputs": [],
   "source": []
  },
  {
   "cell_type": "markdown",
   "metadata": {},
   "source": [
    "### Agent Creation"
   ]
  },
  {
   "cell_type": "markdown",
   "metadata": {},
   "source": [
    " - The agent is responsible for taking in input and deciding what actions to take\n",
    " - the Agent does not execute those actions - that is done by the AgentExecutor\n",
    " - `create_tool_calling_agent` will call `.bind_tools` for us under the hood."
   ]
  },
  {
   "cell_type": "code",
   "execution_count": null,
   "metadata": {},
   "outputs": [],
   "source": [
    "## Get the prompt to use - you can modify this!\n",
    "# prompt = hub.pull(\"hwchase17/openai-functions-agent\")"
   ]
  },
  {
   "cell_type": "code",
   "metadata": {
    "ExecuteTime": {
     "end_time": "2025-01-26T06:36:47.299921Z",
     "start_time": "2025-01-26T06:36:46.265825Z"
    }
   },
   "source": [
    "from langchain import hub\n",
    "\n",
    "from langchain.agents import create_tool_calling_agent\n",
    "from langchain.agents import AgentExecutor"
   ],
   "outputs": [],
   "execution_count": 9
  },
  {
   "cell_type": "code",
   "metadata": {
    "ExecuteTime": {
     "end_time": "2025-01-26T06:36:53.067037Z",
     "start_time": "2025-01-26T06:36:48.199212Z"
    }
   },
   "source": [
    "prompt = hub.pull(\"hwchase17/openai-functions-agent\")"
   ],
   "outputs": [],
   "execution_count": 10
  },
  {
   "cell_type": "code",
   "metadata": {
    "ExecuteTime": {
     "end_time": "2025-01-26T06:36:54.993128Z",
     "start_time": "2025-01-26T06:36:54.989868Z"
    }
   },
   "source": [
    "prompt.messages"
   ],
   "outputs": [
    {
     "data": {
      "text/plain": [
       "[SystemMessagePromptTemplate(prompt=PromptTemplate(input_variables=[], input_types={}, partial_variables={}, template='You are a helpful assistant'), additional_kwargs={}),\n",
       " MessagesPlaceholder(variable_name='chat_history', optional=True),\n",
       " HumanMessagePromptTemplate(prompt=PromptTemplate(input_variables=['input'], input_types={}, partial_variables={}, template='{input}'), additional_kwargs={}),\n",
       " MessagesPlaceholder(variable_name='agent_scratchpad')]"
      ]
     },
     "execution_count": 11,
     "metadata": {},
     "output_type": "execute_result"
    }
   ],
   "execution_count": 11
  },
  {
   "cell_type": "code",
   "metadata": {
    "ExecuteTime": {
     "end_time": "2025-01-26T06:40:37.489951Z",
     "start_time": "2025-01-26T06:40:37.484082Z"
    }
   },
   "source": [
    "tools = [search, health_supplements]\n",
    "agent = create_tool_calling_agent(llm, tools, prompt)"
   ],
   "outputs": [],
   "execution_count": 12
  },
  {
   "cell_type": "code",
   "metadata": {
    "ExecuteTime": {
     "end_time": "2025-01-26T06:43:30.383483Z",
     "start_time": "2025-01-26T06:43:30.380233Z"
    }
   },
   "source": [
    "agent_executor = AgentExecutor(agent=agent, tools=tools, verbose=True)"
   ],
   "outputs": [],
   "execution_count": 13
  },
  {
   "cell_type": "code",
   "metadata": {
    "ExecuteTime": {
     "end_time": "2025-01-26T06:45:12.580691Z",
     "start_time": "2025-01-26T06:45:01.115799Z"
    }
   },
   "source": [
    "# question = \"What is the best supplement for muscle gain?\"\n",
    "question = \"what's weather in New York?\"\n",
    "# question = \"What are the side effects of taking too much vitamin D?\"\n",
    "response = agent_executor.invoke({'input': question})"
   ],
   "outputs": [
    {
     "name": "stdout",
     "output_type": "stream",
     "text": [
      "\n",
      "\n",
      "\u001B[1m> Entering new AgentExecutor chain...\u001B[0m\n",
      "\u001B[32;1m\u001B[1;3m\n",
      "Invoking: `search` with `{'query': 'weather in New York'}`\n",
      "\n",
      "\n",
      "\u001B[0m\u001B[36;1m\u001B[1;3m[{'url': 'https://www.weatherapi.com/', 'content': \"{'location': {'name': 'New York', 'region': 'New York', 'country': 'United States of America', 'lat': 40.7142, 'lon': -74.0064, 'tz_id': 'America/New_York', 'localtime_epoch': 1737873859, 'localtime': '2025-01-26 01:44'}, 'current': {'last_updated_epoch': 1737873000, 'last_updated': '2025-01-26 01:30', 'temp_c': -0.6, 'temp_f': 30.9, 'is_day': 0, 'condition': {'text': 'Clear', 'icon': '//cdn.weatherapi.com/weather/64x64/night/113.png', 'code': 1000}, 'wind_mph': 9.2, 'wind_kph': 14.8, 'wind_degree': 221, 'wind_dir': 'SW', 'pressure_mb': 1023.0, 'pressure_in': 30.21, 'precip_mm': 0.0, 'precip_in': 0.0, 'humidity': 53, 'cloud': 0, 'feelslike_c': -5.1, 'feelslike_f': 22.8, 'windchill_c': -7.3, 'windchill_f': 18.9, 'heatindex_c': -2.7, 'heatindex_f': 27.2, 'dewpoint_c': -6.6, 'dewpoint_f': 20.0, 'vis_km': 16.0, 'vis_miles': 9.0, 'uv': 0.0, 'gust_mph': 14.3, 'gust_kph': 23.1}}\"}, {'url': 'https://world-weather.info/forecast/usa/new_york/january-2025/', 'content': \"Weather in New York City in January 2025 (New York) - Detailed Weather Forecast for a Month Weather in New York City Weather in New York City in January 2025 New York City Weather Forecast for January 2025 is based on long term prognosis and previous years' statistical data. 1 +50°+50° 2 +41°+39° 3 +37°+32° 4 +30°+30° 5 +30°+27° 6 +43°+30° 7 +37°+37° 8 +43°+34° 9 +32°+30° 10 +30°+28° 11 +41°+30° +46°+37° +45°+37° +36°+28° +37°+30° +39°+32° +36°+28° +39°+30° +39°+32° +37°+30° +36°+27° +37°+30° +39°+32° +39°+32° +41°+34° +39°+32° +41°+34° +39°+34° +41°+34° +36°+28° +36°+28° Extended weather forecast in New York City Albany+16° Linden+34° Yonkers+30° Mount Vernon+32° Paterson+30° Livingston+27° New Rochelle+32° Summit+27° Union+34° Clifton+32° Jersey City+34° Bayonne+34° East New York+36° Guttenberg+34° world's temperature today Temperature units\"}, {'url': 'https://world-weather.info/forecast/usa/manhattan_3/january-2025/', 'content': \"Weather in Manhattan in January 2025 (New York) - Detailed Weather Forecast for a Month Weather Weather in Manhattan Weather in Manhattan in January 2025 Manhattan Weather Forecast for January 2025 is based on long term prognosis and previous years' statistical data. 1 +50°+50° 2 +41°+39° 3 +37°+32° 4 +30°+30° 5 +30°+27° 6 +43°+30° 7 +37°+37° 8 +43°+34° 9 +32°+30° 10 +30°+28° 11 +41°+30° +46°+37° +45°+37° +36°+28° +37°+30° +39°+32° +36°+28° +39°+30° +39°+32° +37°+30° +36°+27° +37°+30° +39°+32° +39°+32° +41°+34° +39°+32° +41°+34° +39°+34° +41°+34° +36°+28° +36°+28° Extended weather forecast in Manhattan HourlyWeek10-Day14-Day30-DayBiometeo... Weather in Washington, D.C.+36° Albany+16° Linden+34° Yonkers+30° Mount Vernon+32° Paterson+30° Livingston+27° New Rochelle+32° Summit+27° Rockville Centre+36° Union+34° Clifton+32° Jersey City+34° Bayonne+34° North Bergen+34° East New York+36° West Long Branch+32° Nepperhan+30° world's temperature today day day Temperature units\"}, {'url': 'https://www.weather25.com/north-america/usa/new-york?page=month&month=January', 'content': 'New York weather in January 2025 | New York 14 day weather New York weather in January 2025 The weather in New York in January is very cold with temperatures between -4°C and 1°C, warm clothes are a must. | New York in January | Temperatures in New York in January Weather in New York in January - FAQ The average temperature in New York in January is -4/1° C. On average, there are 6 rainy days in New York during January. Weather wise, is January a good time to visit New York? The weather in New York in January is awful. On average, there are 9 snowy days in New York in January. More about the weather in New York'}, {'url': 'https://www.weather25.com/north-america/usa/new-york/new-york-city?page=month&month=January', 'content': 'New York City weather in January 2025 | Weather25.com New York City weather in January 2025 The weather in New York City in January is very cold with temperatures between -4°C and 1°C, warm clothes are a must. | New York City in January | Temperatures in New York City in January Weather in New York City in January - FAQ The average temperature in New York City in January is -4/1° C. On average, there are 6 rainy days in New York City during January. Weather wise, is January a good time to visit New York City? The weather in New York City in January is awful. On average, there are 9 snowy days in New York City in January.'}]\u001B[0m\u001B[32;1m\u001B[1;3mThe current weather in New York is clear with a temperature of -0.6°C (30.9°F). It's a bit chilly, so it's recommended to wear warm clothes. There is no precipitation and the wind is blowing at 9.2 km/h (14.8 mph) from the southwest direction.\u001B[0m\n",
      "\n",
      "\u001B[1m> Finished chain.\u001B[0m\n"
     ]
    }
   ],
   "execution_count": 18
  },
  {
   "cell_type": "code",
   "metadata": {
    "ExecuteTime": {
     "end_time": "2025-01-26T06:45:45.926512Z",
     "start_time": "2025-01-26T06:45:45.923409Z"
    }
   },
   "source": [
    "print(response['output'])"
   ],
   "outputs": [
    {
     "name": "stdout",
     "output_type": "stream",
     "text": [
      "The current weather in New York is clear with a temperature of -0.6°C (30.9°F). It's a bit chilly, so it's recommended to wear warm clothes. There is no precipitation and the wind is blowing at 9.2 km/h (14.8 mph) from the southwest direction.\n"
     ]
    }
   ],
   "execution_count": 19
  },
  {
   "cell_type": "code",
   "execution_count": null,
   "metadata": {},
   "outputs": [],
   "source": []
  },
  {
   "cell_type": "code",
   "execution_count": null,
   "metadata": {},
   "outputs": [],
   "source": []
  },
  {
   "cell_type": "code",
   "execution_count": null,
   "metadata": {},
   "outputs": [],
   "source": []
  },
  {
   "cell_type": "code",
   "execution_count": null,
   "metadata": {},
   "outputs": [],
   "source": []
  },
  {
   "cell_type": "code",
   "execution_count": null,
   "metadata": {},
   "outputs": [],
   "source": []
  },
  {
   "cell_type": "code",
   "execution_count": null,
   "metadata": {},
   "outputs": [],
   "source": []
  }
 ],
 "metadata": {
  "kernelspec": {
   "display_name": "ml",
   "language": "python",
   "name": "python3"
  },
  "language_info": {
   "codemirror_mode": {
    "name": "ipython",
    "version": 3
   },
   "file_extension": ".py",
   "mimetype": "text/x-python",
   "name": "python",
   "nbconvert_exporter": "python",
   "pygments_lexer": "ipython3",
   "version": "3.12.4"
  }
 },
 "nbformat": 4,
 "nbformat_minor": 2
}
