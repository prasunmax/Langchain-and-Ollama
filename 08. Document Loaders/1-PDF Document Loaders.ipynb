{
 "cells": [
  {
   "cell_type": "markdown",
   "metadata": {},
   "source": [
    "# Announcement-on-ML\n",
    "<a href='http://www.kgptalkie.com' target=\"_blank\"> <img src='https://github.com/laxmimerit/Important-Announcement-on-ML/raw/master/kgptalkie_strips.png'/></a>\n",
    "\n",
    "# ML Resources\n",
    "|  ML Course | Description |\n",
    "|:---|:---|\n",
    "| [**Deploy LLM App with Ollama and Langchain in Production**](https://www.udemy.com/course/ollama-and-langchain/?referralCode=7F4C0C7B8CF223BA9327) | Master Langchain v0.3, Private Chatbot, Deploy LLM App.  Ollama, LLAMA, LLAMA 3.2, FAISS, RAG, Deploy RAG, Gen AI, LLM|\n",
    "| [**Fine Tuning LLM with HuggingFace Transformers for NLP**](https://www.udemy.com/course/fine-tuning-llm-with-hugging-face-transformers/?referralCode=6DEB3BE17C2644422D8E) | Learn how to fine tune LLM with custom dataset. You will learn basics of transformers then fine tune LLM|\n",
    "| [**Data Visualization in Python Masterclass™: Beginners to Pro**](https://bit.ly/udemy95off_kgptalkie) |  Learn to build Machine Learning and Deep Learning models using Python and its libraries like Scikit-Learn, Keras, and TensorFlow. |\n",
    "| [**Python for Machine Learning: A Step-by-Step Guide**](https://bit.ly/ml-ds-project) | Learn to build Machine Learning and Deep Learning models using Python and its libraries like Scikit-Learn, Keras, and TensorFlow. |\n",
    "| [**Deep Learning for Beginners with Python**](https://bit.ly/dl-with-python) | Neural Networks, TensorFlow, ANN, CNN, RNN, LSTM, Transfer Learning and Much More. |\n",
    "| [**Python for Linear Regression in Machine Learning**](https://bit.ly/regression-python) | Learn to build Linear Regression models using Python and its libraries like Scikit-Learn. |\n",
    "| [**Introduction to Spacy 3 for Natural Language Processing**](https://bit.ly/spacy-intro) | Learn to build Natural Language Processing models using Python and its libraries like Spacy. |\n",
    "| [**Advanced Machine Learning and Deep Learning Projects**](https://bit.ly/kgptalkie_ml_projects) | Learn to build Advanced Machine Learning and Deep Learning models using Python and transformer models like BERT, GPT-2, and XLNet. |\n",
    "| [**Natural Language Processing in Python for Beginners**](https://bit.ly/intro_nlp) | Learn to build Natural Language Processing Projects using Spacy, NLTK, and Gensim, and transformer models like BERT, GPT-2, and XLNet. |\n",
    "| [**Deployment of Machine Learning Models in Production in Python**](https://bit.ly/bert_nlp) |  Learn to deploy Machine Learning and Deep Learning models using Python and its libraries like Flask, Streamlit, and NGINX. |\n",
    "| [**R 4.0 Programming for Data Science - Beginners to Pro**](https://bit.ly/r4-ml) | Learn to build Machine Learning and Deep Learning models using R and its libraries like caret, tidyverse, and keras. |\n"
   ]
  },
  {
   "cell_type": "markdown",
   "metadata": {},
   "source": [
    "## PDF Document Loaders\n",
    "- Load various kind of documents from the web and local files.\n",
    "- Apply LLM to the documents for summarization and question answering."
   ]
  },
  {
   "cell_type": "markdown",
   "metadata": {},
   "source": [
    "### Project 1: Question Answering from PDF Document\n",
    "- We will load the document from the local file and apply LLM to answer the questions.\n",
    "- Lets use research paper published on the missuse of the health supplements for workout. "
   ]
  },
  {
   "cell_type": "markdown",
   "metadata": {},
   "source": [
    "rag-dataset: git@github.com:laxmimerit/rag-dataset.git\n",
    "\n",
    "```bash\n",
    "git clone git@github.com:laxmimerit/rag-dataset.git\n",
    "```"
   ]
  },
  {
   "cell_type": "code",
   "metadata": {
    "ExecuteTime": {
     "end_time": "2025-01-26T03:23:59.897060Z",
     "start_time": "2025-01-26T03:23:38.550268Z"
    }
   },
   "source": [
    "!git clone git@github.com:laxmimerit/rag-dataset.git\n",
    "# !pip install pymupdf tiktoken "
   ],
   "outputs": [
    {
     "name": "stdout",
     "output_type": "stream",
     "text": [
      "/bin/bash: warning: setlocale: LC_ALL: cannot change locale (en_US.UTF-8)\r\n",
      "Cloning into 'rag-dataset'...\r\n",
      "The authenticity of host 'github.com (20.207.73.82)' can't be established.\r\n",
      "ED25519 key fingerprint is SHA256:+DiY3wvvV6TuJJhbpZisF/zLDA0zPMSvHdkr4UvCOqU.\r\n",
      "This key is not known by any other names.\r\n",
      "Are you sure you want to continue connecting (yes/no/[fingerprint])? ^C\r\n"
     ]
    }
   ],
   "execution_count": 1
  },
  {
   "cell_type": "code",
   "execution_count": 5,
   "metadata": {},
   "outputs": [
    {
     "data": {
      "text/plain": [
       "True"
      ]
     },
     "execution_count": 5,
     "metadata": {},
     "output_type": "execute_result"
    }
   ],
   "source": [
    "# from dotenv import load_dotenv\n",
    "#\n",
    "# load_dotenv('./../.env')"
   ]
  },
  {
   "cell_type": "code",
   "metadata": {
    "ExecuteTime": {
     "end_time": "2025-01-26T03:28:19.528583Z",
     "start_time": "2025-01-26T03:28:15.019246Z"
    }
   },
   "source": [
    "from langchain_community.document_loaders import PyMuPDFLoader\n",
    "\n",
    "loader = PyMuPDFLoader(\"rag-dataset/health supplements/1. dietary supplements - for whom.pdf\")\n",
    "\n",
    "docs = loader.load()"
   ],
   "outputs": [],
   "execution_count": 2
  },
  {
   "cell_type": "code",
   "metadata": {
    "ExecuteTime": {
     "end_time": "2025-01-26T03:28:32.251130Z",
     "start_time": "2025-01-26T03:28:32.247032Z"
    }
   },
   "source": [
    "len(docs)"
   ],
   "outputs": [
    {
     "data": {
      "text/plain": [
       "17"
      ]
     },
     "execution_count": 3,
     "metadata": {},
     "output_type": "execute_result"
    }
   ],
   "execution_count": 3
  },
  {
   "cell_type": "code",
   "execution_count": 15,
   "metadata": {},
   "outputs": [],
   "source": [
    "# docs[0].metadata\n",
    "# print(docs[0].page_content)"
   ]
  },
  {
   "cell_type": "code",
   "metadata": {
    "ExecuteTime": {
     "end_time": "2025-01-26T03:28:36.030863Z",
     "start_time": "2025-01-26T03:28:35.970513Z"
    }
   },
   "source": [
    "### Read the list of PDFs in the dir\n",
    "import os\n",
    "\n",
    "pdfs = []\n",
    "for root, dirs, files in os.walk(\"rag-dataset\"):\n",
    "    # print(root, dirs, files)\n",
    "    for file in files:\n",
    "        if file.endswith(\".pdf\"):\n",
    "            pdfs.append(os.path.join(root, file))"
   ],
   "outputs": [],
   "execution_count": 4
  },
  {
   "cell_type": "code",
   "metadata": {
    "ExecuteTime": {
     "end_time": "2025-01-26T03:29:00.399923Z",
     "start_time": "2025-01-26T03:28:58.195247Z"
    }
   },
   "source": [
    "docs = []\n",
    "for pdf in pdfs:\n",
    "    loader = PyMuPDFLoader(pdf)\n",
    "    temp = loader.load()\n",
    "    docs.extend(temp)\n",
    "\n",
    "    # print(temp)\n",
    "    # break"
   ],
   "outputs": [],
   "execution_count": 5
  },
  {
   "cell_type": "code",
   "metadata": {
    "ExecuteTime": {
     "end_time": "2025-01-26T03:38:35.666596Z",
     "start_time": "2025-01-26T03:38:35.662942Z"
    }
   },
   "source": [
    "len(docs)"
   ],
   "outputs": [
    {
     "data": {
      "text/plain": [
       "324"
      ]
     },
     "execution_count": 6,
     "metadata": {},
     "output_type": "execute_result"
    }
   ],
   "execution_count": 6
  },
  {
   "cell_type": "code",
   "metadata": {
    "ExecuteTime": {
     "end_time": "2025-01-26T03:38:41.875544Z",
     "start_time": "2025-01-26T03:38:41.871759Z"
    }
   },
   "source": [
    "def format_docs(docs):\n",
    "    return \"\\n\\n\".join([x.page_content for x in docs])\n",
    "\n",
    "\n",
    "context = format_docs(docs)"
   ],
   "outputs": [],
   "execution_count": 7
  },
  {
   "cell_type": "code",
   "metadata": {
    "ExecuteTime": {
     "end_time": "2025-01-26T03:38:46.041874Z",
     "start_time": "2025-01-26T03:38:46.038667Z"
    }
   },
   "source": [
    "docs[0]"
   ],
   "outputs": [
    {
     "data": {
      "text/plain": [
       "Document(metadata={'source': 'rag-dataset/finance/amazon/amazon-10-q-q3-2024.pdf', 'file_path': 'rag-dataset/finance/amazon/amazon-10-q-q3-2024.pdf', 'page': 0, 'total_pages': 150, 'format': 'PDF 1.4', 'title': '0001018724-24-000161', 'author': 'EDGAR® Online LLC, a subsidiary of OTC Markets Group', 'subject': 'Form 10-Q filed on 2024-11-01 for the period ending 2024-09-30', 'keywords': '0001018724-24-000161; ; 10-Q', 'creator': 'EDGAR Filing HTML Converter', 'producer': 'EDGRpdf Service w/ EO.Pdf 22.0.40.0', 'creationDate': \"D:20241101060312-04'00'\", 'modDate': \"D:20241101060327-04'00'\", 'trapped': '', 'encryption': 'Standard V2 R3 128-bit RC4'}, page_content='Table of Contents\\nUNITED STATES\\nSECURITIES AND EXCHANGE COMMISSION\\nWashington, D.C. 20549\\n\\xa0____________________________________\\nFORM 10-Q\\n____________________________________\\xa0\\n(Mark One)\\n☒\\nQUARTERLY REPORT PURSUANT TO SECTION 13 OR 15(d) OF THE SECURITIES EXCHANGE ACT OF 1934\\nFor the quarterly period ended September\\xa030, 2024\\nor\\n☐\\nTRANSITION REPORT PURSUANT TO SECTION 13 OR 15(d) OF THE SECURITIES EXCHANGE ACT OF 1934\\nFor the transition period from\\xa0\\xa0\\xa0\\xa0\\xa0\\xa0\\xa0\\xa0\\xa0\\xa0\\xa0\\xa0to\\xa0\\xa0\\xa0\\xa0\\xa0\\xa0\\xa0\\xa0\\xa0\\xa0\\xa0\\xa0 .\\nCommission File No. 000-22513\\n____________________________________\\nAMAZON.COM, INC.\\n(Exact name of registrant as specified in its charter)\\n\\xa0____________________________________\\nDelaware\\n\\xa0\\n91-1646860\\n(State or other jurisdiction of\\nincorporation or organization)\\n\\xa0\\n(I.R.S. Employer\\nIdentification No.)\\n410 Terry Avenue North, Seattle, Washington\\xa098109-5210\\n(206) 266-1000\\n(Address and telephone number, including area code, of registrant’s principal executive offices)\\nSecurities registered pursuant to Section 12(b) of the Act:\\nTitle of Each Class\\nTrading Symbol(s)\\nName of Each Exchange on Which Registered\\nCommon Stock, par value $.01 per share\\nAMZN\\nNasdaq Global Select Market\\n____________________________________\\nIndicate by check mark whether the registrant (1)\\xa0has filed all reports required to be filed by Section\\xa013 or 15(d) of the Securities Exchange Act of 1934 during the preceding 12\\nmonths (or for such shorter period that the registrant was required to file such reports), and (2)\\xa0has been subject to such filing requirements for the past 90\\xa0days.\\xa0\\xa0\\xa0\\xa0Yes\\xa0\\xa0☒\\xa0\\xa0\\xa0\\xa0No\\xa0\\xa0☐\\nIndicate by check mark whether the registrant has submitted electronically every Interactive Data File required to be submitted pursuant to Rule 405 of Regulation\\xa0S-T during\\nthe preceding 12 months (or for such shorter period that the registrant was required to submit such files).\\xa0\\xa0\\xa0\\xa0Yes\\xa0\\xa0☒\\xa0\\xa0\\xa0\\xa0No\\xa0\\xa0☐\\nIndicate by check mark whether the registrant is a large accelerated filer, an accelerated filer, a non-accelerated filer, a smaller reporting company, or an emerging growth\\ncompany. See the definitions of “large accelerated filer,” “accelerated filer,” “smaller reporting company,” and “emerging growth company” in Rule 12b-2 of the Exchange Act.\\nLarge accelerated filer\\n☒\\nAccelerated\\xa0filer\\n☐\\nNon-accelerated filer\\n☐\\nSmaller\\xa0reporting\\xa0company\\n☐\\nEmerging growth company\\n☐\\nIf an emerging growth company, indicate by check mark if the registrant has elected not to use the extended transition period for complying with any new or revised financial\\naccounting standards provided pursuant to Section 13(a) of the Exchange Act. \\xa0\\xa0☐\\nIndicate by check mark whether the registrant is a shell company (as defined in Rule 12b-2 of the Exchange Act).\\xa0\\xa0\\xa0\\xa0Yes\\xa0\\xa0☐\\xa0\\xa0\\xa0\\xa0No\\xa0\\xa0☒\\n10,515,011,008 shares of common stock, par value $0.01 per share, outstanding as of October\\xa018, 2024\\n')"
      ]
     },
     "execution_count": 8,
     "metadata": {},
     "output_type": "execute_result"
    }
   ],
   "execution_count": 8
  },
  {
   "cell_type": "code",
   "execution_count": 36,
   "metadata": {},
   "outputs": [],
   "source": [
    "# print(context)"
   ]
  },
  {
   "cell_type": "code",
   "metadata": {
    "ExecuteTime": {
     "end_time": "2025-01-26T03:38:52.990571Z",
     "start_time": "2025-01-26T03:38:50.904588Z"
    }
   },
   "source": [
    "import tiktoken\n",
    "\n",
    "encoding = tiktoken.encoding_for_model(\"gpt-4o-mini\")\n"
   ],
   "outputs": [],
   "execution_count": 9
  },
  {
   "cell_type": "code",
   "metadata": {
    "ExecuteTime": {
     "end_time": "2025-01-26T03:38:55.895304Z",
     "start_time": "2025-01-26T03:38:55.880737Z"
    }
   },
   "source": [
    "encoding.encode(\"congratulations\"), encoding.encode(\"rqsqeft\")"
   ],
   "outputs": [
    {
     "data": {
      "text/plain": [
       "([542, 111291, 14571], [81, 31847, 80, 5276])"
      ]
     },
     "execution_count": 10,
     "metadata": {},
     "output_type": "execute_result"
    }
   ],
   "execution_count": 10
  },
  {
   "cell_type": "code",
   "metadata": {
    "ExecuteTime": {
     "end_time": "2025-01-26T03:39:00.621743Z",
     "start_time": "2025-01-26T03:39:00.618090Z"
    }
   },
   "source": [
    "len(encoding.encode(docs[0].page_content))"
   ],
   "outputs": [
    {
     "data": {
      "text/plain": [
       "714"
      ]
     },
     "execution_count": 11,
     "metadata": {},
     "output_type": "execute_result"
    }
   ],
   "execution_count": 11
  },
  {
   "cell_type": "code",
   "metadata": {
    "ExecuteTime": {
     "end_time": "2025-01-26T03:39:03.443962Z",
     "start_time": "2025-01-26T03:39:03.339212Z"
    }
   },
   "source": [
    "len(encoding.encode(context))"
   ],
   "outputs": [
    {
     "data": {
      "text/plain": [
       "230373"
      ]
     },
     "execution_count": 12,
     "metadata": {},
     "output_type": "execute_result"
    }
   ],
   "execution_count": 12
  },
  {
   "cell_type": "code",
   "metadata": {
    "ExecuteTime": {
     "end_time": "2025-01-26T03:39:33.348775Z",
     "start_time": "2025-01-26T03:39:33.345457Z"
    }
   },
   "source": [
    "969*64"
   ],
   "outputs": [
    {
     "data": {
      "text/plain": [
       "62016"
      ]
     },
     "execution_count": 13,
     "metadata": {},
     "output_type": "execute_result"
    }
   ],
   "execution_count": 13
  },
  {
   "cell_type": "code",
   "metadata": {
    "ExecuteTime": {
     "end_time": "2025-01-26T03:39:52.506496Z",
     "start_time": "2025-01-26T03:39:51.845616Z"
    }
   },
   "source": [
    "### Question Answering using LLM\n",
    "from langchain_ollama import ChatOllama\n",
    "\n",
    "from langchain_core.prompts import (SystemMessagePromptTemplate, HumanMessagePromptTemplate,\n",
    "                                    ChatPromptTemplate)\n",
    "\n",
    "\n",
    "\n",
    "from langchain_core.output_parsers import StrOutputParser\n",
    "\n",
    "base_url = \"http://localhost:11434\"\n",
    "model = 'llama3.2:3b'\n",
    "\n",
    "llm = ChatOllama(base_url=base_url, model=model)\n"
   ],
   "outputs": [],
   "execution_count": 14
  },
  {
   "cell_type": "code",
   "metadata": {
    "ExecuteTime": {
     "end_time": "2025-01-26T03:39:56.485861Z",
     "start_time": "2025-01-26T03:39:56.483258Z"
    }
   },
   "source": [
    "system = SystemMessagePromptTemplate.from_template(\"\"\"You are helpful AI assistant who answer user question based on the provided context. \n",
    "                                                    Do not answer in more than {words} words\"\"\")\n",
    "\n",
    "prompt = \"\"\"Answer user question based on the provided context ONLY! If you do not know the answer, just say \"I don't know\".\n",
    "            ### Context:\n",
    "            {context}\n",
    "\n",
    "            ### Question:\n",
    "            {question}\n",
    "\n",
    "            ### Answer:\"\"\"\n",
    "\n",
    "prompt = HumanMessagePromptTemplate.from_template(prompt)\n",
    "\n",
    "messages = [system, prompt]\n",
    "template = ChatPromptTemplate(messages)\n",
    "\n",
    "# template\n",
    "# template.invoke({'context': context, 'question': \"How to gain muscle mass?\", 'words': 50})\n",
    "\n",
    "qna_chain = template | llm | StrOutputParser()"
   ],
   "outputs": [],
   "execution_count": 15
  },
  {
   "cell_type": "code",
   "metadata": {
    "ExecuteTime": {
     "end_time": "2025-01-26T03:42:27.371792Z",
     "start_time": "2025-01-26T03:42:27.367703Z"
    }
   },
   "source": [
    "qna_chain"
   ],
   "outputs": [
    {
     "data": {
      "text/plain": [
       "ChatPromptTemplate(input_variables=['context', 'question', 'words'], input_types={}, partial_variables={}, messages=[SystemMessagePromptTemplate(prompt=PromptTemplate(input_variables=['words'], input_types={}, partial_variables={}, template='You are helpful AI assistant who answer user question based on the provided context. \\n                                                    Do not answer in more than {words} words'), additional_kwargs={}), HumanMessagePromptTemplate(prompt=PromptTemplate(input_variables=['context', 'question'], input_types={}, partial_variables={}, template='Answer user question based on the provided context ONLY! If you do not know the answer, just say \"I don\\'t know\".\\n            ### Context:\\n            {context}\\n\\n            ### Question:\\n            {question}\\n\\n            ### Answer:'), additional_kwargs={})])\n",
       "| ChatOllama(model='llama3.2:3b', base_url='http://localhost:11434')\n",
       "| StrOutputParser()"
      ]
     },
     "execution_count": 16,
     "metadata": {},
     "output_type": "execute_result"
    }
   ],
   "execution_count": 16
  },
  {
   "cell_type": "code",
   "metadata": {
    "ExecuteTime": {
     "end_time": "2025-01-26T03:44:14.520803Z",
     "start_time": "2025-01-26T03:44:10.796003Z"
    }
   },
   "source": [
    "response = qna_chain.invoke({'context': context, 'question': \"How to gain muscle mass?\", 'words': 50})\n",
    "print(response)"
   ],
   "outputs": [
    {
     "name": "stdout",
     "output_type": "stream",
     "text": [
      "The text does not provide an answer to the question \"How to gain muscle mass?\" It appears to be a review article from the Annals of Pharmacology and Toxicology, discussing the potential adverse effects of botanical supplements on human health. The article discusses various botanicals, their active constituents, typical use, dosage, and reported adverse effects, but does not provide information on how to gain muscle mass.\n"
     ]
    }
   ],
   "execution_count": 20
  },
  {
   "cell_type": "code",
   "metadata": {
    "ExecuteTime": {
     "end_time": "2025-01-26T03:44:25.789310Z",
     "start_time": "2025-01-26T03:44:17.814618Z"
    }
   },
   "source": [
    "response = qna_chain.invoke({'context': context, 'question': \"How to reduce the weight?\", 'words': 50})\n",
    "print(response)"
   ],
   "outputs": [
    {
     "name": "stdout",
     "output_type": "stream",
     "text": [
      "The text doesn't provide a direct answer to how to reduce weight, but it does discuss various botanical supplements and their potential effects on health, including some related to weight management. However, I can provide some general information.\n",
      "\n",
      "If you're looking for ways to reduce weight, here are some general tips that are not specifically mentioned in the text:\n",
      "\n",
      "1. **Healthy diet**: Focus on consuming a balanced diet with plenty of fruits, vegetables, whole grains, and lean protein sources.\n",
      "2. **Regular exercise**: Engage in regular physical activity, such as cardio, strength training, or high-intensity interval training (HIIT), to help you burn calories and build muscle.\n",
      "3. **Stay hydrated**: Drink plenty of water throughout the day to help control hunger and boost metabolism.\n",
      "4. **Get enough sleep**: Aim for 7-9 hours of sleep per night to help regulate hunger hormones and support weight loss.\n",
      "\n",
      "Regarding botanical supplements mentioned in the text, such as black cohosh, some may have potential effects on weight management, but more research is needed to confirm their effectiveness.\n",
      "\n",
      "Black cohosh, for example, has been studied for its potential benefits in reducing hot flashes and improving bone density in menopausal women. While it may not directly aid in weight loss, it could potentially help improve overall health and reduce body composition.\n",
      "\n",
      "However, it's essential to consult with a healthcare professional before adding any supplements to your regimen, as they can interact with medications or have adverse effects in certain individuals.\n"
     ]
    }
   ],
   "execution_count": 21
  },
  {
   "cell_type": "code",
   "metadata": {
    "ExecuteTime": {
     "end_time": "2025-01-26T03:44:53.241421Z",
     "start_time": "2025-01-26T03:44:46.693926Z"
    }
   },
   "source": [
    "response = qna_chain.invoke({'context': context, 'question': \"How to do weight loss?\", 'words': 50})\n",
    "print(response)"
   ],
   "outputs": [
    {
     "name": "stdout",
     "output_type": "stream",
     "text": [
      "The answer is not related to the topic of the text, which discusses the potential health risks and interactions associated with botanical supplements. The text provides information on the adverse effects of various botanicals, including black cohosh, kava kava, saw palmetto, echinacea, valerian, yohimbe, milk thistle, ginseng, garlic, and ginkgo biloba.\n",
      "\n",
      "The correct answer to the question \"How to do weight loss?\" is not provided in the text. However, a general approach to weight loss might include a combination of lifestyle changes such as:\n",
      "\n",
      "* Eating a healthy and balanced diet\n",
      "* Engaging in regular physical activity, such as cardio and strength training\n",
      "* Getting enough sleep\n",
      "* Managing stress levels\n",
      "* Staying hydrated\n",
      "\n",
      "It's also worth noting that the text does not provide any information on how to do weight loss, but rather highlights the potential risks associated with certain botanical supplements. If you're interested in losing weight, it's always best to consult with a healthcare professional or registered dietitian for personalized advice.\n"
     ]
    }
   ],
   "execution_count": 22
  },
  {
   "cell_type": "code",
   "metadata": {
    "ExecuteTime": {
     "end_time": "2025-01-26T03:45:34.992436Z",
     "start_time": "2025-01-26T03:45:31.307734Z"
    }
   },
   "source": [
    "response = qna_chain.invoke({'context': context, 'question': \"How many planets are there outside of our solar system?\", 'words': 50})\n",
    "print(response)"
   ],
   "outputs": [
    {
     "name": "stdout",
     "output_type": "stream",
     "text": [
      "There is no answer to the question \"How many planets are there outside of our solar system?\" in the text you provided, as it does not address this topic at all. The text appears to be a review article about the toxic effects of botanicals and their potential interactions with drugs.\n",
      "\n",
      "The correct response would be \"I don't have enough information to answer that question.\" or \"That question is not addressed in the text.\"\n",
      "\n",
      "If you'd like, I can help you find information on the number of planets outside of our solar system. According to NASA, there are currently over 4,000 exoplanets that have been discovered, and thousands more that are believed to exist based on observations and simulations. However, this is a separate topic from the original text you provided.\n"
     ]
    }
   ],
   "execution_count": 23
  },
  {
   "cell_type": "markdown",
   "metadata": {},
   "source": [
    "### Project 2: PDF Document Summarization"
   ]
  },
  {
   "cell_type": "code",
   "metadata": {
    "ExecuteTime": {
     "end_time": "2025-01-26T03:46:19.861357Z",
     "start_time": "2025-01-26T03:46:19.858457Z"
    }
   },
   "source": [
    "system = SystemMessagePromptTemplate.from_template(\"\"\"You are helpful AI assistant who works as document summarizer. \n",
    "                                                   You must not hallucinate or provide any false information.\"\"\")\n",
    "\n",
    "prompt = \"\"\"Summarize the given context in {words}.\n",
    "            ### Context:\n",
    "            {context}\n",
    "\n",
    "            ### Summary:\"\"\"\n",
    "\n",
    "prompt = HumanMessagePromptTemplate.from_template(prompt)\n",
    "\n",
    "messages = [system, prompt]\n",
    "template = ChatPromptTemplate(messages)\n",
    "\n",
    "summary_chain = template | llm | StrOutputParser()"
   ],
   "outputs": [],
   "execution_count": 24
  },
  {
   "cell_type": "code",
   "metadata": {
    "ExecuteTime": {
     "end_time": "2025-01-26T03:46:22.716245Z",
     "start_time": "2025-01-26T03:46:22.712768Z"
    }
   },
   "source": [
    "summary_chain"
   ],
   "outputs": [
    {
     "data": {
      "text/plain": [
       "ChatPromptTemplate(input_variables=['context', 'words'], input_types={}, partial_variables={}, messages=[SystemMessagePromptTemplate(prompt=PromptTemplate(input_variables=[], input_types={}, partial_variables={}, template='You are helpful AI assistant who works as document summarizer. \\n                                                   You must not hallucinate or provide any false information.'), additional_kwargs={}), HumanMessagePromptTemplate(prompt=PromptTemplate(input_variables=['context', 'words'], input_types={}, partial_variables={}, template='Summarize the given context in {words}.\\n            ### Context:\\n            {context}\\n\\n            ### Summary:'), additional_kwargs={})])\n",
       "| ChatOllama(model='llama3.2:3b', base_url='http://localhost:11434')\n",
       "| StrOutputParser()"
      ]
     },
     "execution_count": 25,
     "metadata": {},
     "output_type": "execute_result"
    }
   ],
   "execution_count": 25
  },
  {
   "cell_type": "code",
   "metadata": {
    "ExecuteTime": {
     "end_time": "2025-01-26T03:46:36.825565Z",
     "start_time": "2025-01-26T03:46:29.458020Z"
    }
   },
   "source": [
    "response = summary_chain.invoke({'context': context, 'words': 50})\n",
    "print(response)"
   ],
   "outputs": [
    {
     "name": "stdout",
     "output_type": "stream",
     "text": [
      "This article reviews the potential toxicities and adverse effects of botanicals, including their mechanisms of action and interactions with other compounds. The authors highlight several case reports of liver injury and other adverse effects associated with various botanicals, such as black cohosh, kava kava, saw palmetto, echinacea, valerian, yohimbine, milk thistle, ginseng, garlic, and ginkgo biloba. They also discuss potential herb-drug interactions, including the induction or suppression of metabolizing enzymes and the activation of pregnane-X receptor (PXR) and aryl hydrocarbon receptor (AhR). The authors emphasize the need for caution when using botanicals, particularly in individuals with pre-existing medical conditions or taking medications.\n",
      "\n",
      "Key points:\n",
      "\n",
      "* Many botanicals have been associated with adverse effects, including liver injury and other toxicities.\n",
      "* Case reports highlight the potential mechanisms of action underlying these toxicities, such as oxidative stress and mitochondrial dysfunction.\n",
      "* Herb-drug interactions are a significant concern, particularly due to the induction or suppression of metabolizing enzymes.\n",
      "* Activation of pregnane-X receptor (PXR) and aryl hydrocarbon receptor (AhR) is implicated in some botanicals.\n",
      "\n",
      "Implications:\n",
      "\n",
      "* Healthcare providers should be aware of the potential risks associated with botanical use and monitor patients for adverse effects.\n",
      "* Patients should be advised to report any symptoms or side effects to their healthcare provider, particularly if they are taking medications.\n",
      "* Further research is needed to fully understand the mechanisms underlying the toxicities and interactions of botanicals.\n",
      "\n",
      "Overall, this article highlights the importance of caution when using botanicals and emphasizes the need for further research into their safety and efficacy.\n"
     ]
    }
   ],
   "execution_count": 26
  },
  {
   "cell_type": "markdown",
   "metadata": {},
   "source": [
    "### Project 3: Report Generation from PDF Document"
   ]
  },
  {
   "cell_type": "markdown",
   "metadata": {},
   "source": [
    "Streamlit Tutorial: https://www.youtube.com/watch?v=hff2tHUzxJM&list=PLc2rvfiptPSSpZ99EnJbH5LjTJ_nOoSWW"
   ]
  },
  {
   "cell_type": "code",
   "metadata": {
    "ExecuteTime": {
     "end_time": "2025-01-26T03:51:08.842760Z",
     "start_time": "2025-01-26T03:50:55.179977Z"
    }
   },
   "source": [
    "response = qna_chain.invoke({'context': context, \n",
    "                             'question': \"Provide a detailed report from the provided context. Write answer in Markdown.\", \n",
    "                             'words': 2000})\n",
    "print(response)"
   ],
   "outputs": [
    {
     "name": "stdout",
     "output_type": "stream",
     "text": [
      "**Detailed Report on Botanicals and Their Associated Risks**\n",
      "\n",
      "Botanicals, also known as herbs or plant-based remedies, have been used for centuries to prevent and treat various health conditions. However, their use can be associated with several risks, including adverse effects, interactions with other medications, and potential toxicity.\n",
      "\n",
      "**Commonly Used Botanicals and Their Associated Risks**\n",
      "\n",
      "1. **Black Cohosh (Cimicifuga racemosa)**: Black cohosh has been associated with jaundice and liver failure in menopausal women. The exact mechanism is not fully understood, but it is believed to be related to oxidative stress.\n",
      "2. **Kava Kava**: Kava kava use has been linked to liver toxicity, including cases requiring transplants. Depletion of glutathione and inhibition of cyclooxygenases are thought to be responsible for this effect.\n",
      "3. **Saw Palmetto**: Saw palmetto use has been associated with cholestatic hepatitis, which can lead to pancreatitis and alterations in bile secretion.\n",
      "4. **Echinacea**: Echinacea ingestion has been linked to acute liver failure, although the exact mechanism is not known.\n",
      "5. **Valerian**: Valerian use can cause jaundice, which was reversed by steroid administration in one case.\n",
      "\n",
      "**Other Botanicals and Their Associated Risks**\n",
      "\n",
      "1. **Yohimbine**: Yohimbe, a stimulant found in yohimbine, can cause seizures, tachycardia, and hypertension due to its sympathomimetic properties.\n",
      "2. **Milk Thistle**: Milk thistle use has been implicated in exacerbating hemochromatosis (iron overload) in genetically predisposed individuals.\n",
      "3. **Ginseng**: Ginseng use has been linked to a transient ischemic attack in one case, although the exact mechanism is not known.\n",
      "4. **Black Cohosh and Heart Rate**: Black cohosh was deemed \"probably responsible\" for observed bradycardia (slow heart rate) in one case.\n",
      "\n",
      "**Herb-Drug Interactions**\n",
      "\n",
      "Pharmacologically active compounds in botanicals can interact with other medications, affecting their pharmacokinetics. Induction or suppression of relevant metabolizing enzymes can lead to contraindications by healthcare providers. Activation of the pregnane-X receptor (PXR) and the aryl hydrocarbon receptor (AhR) are common mechanisms among several botanicals.\n",
      "\n",
      "**Conclusion**\n",
      "\n",
      "Botanicals can pose significant risks, including adverse effects, interactions with other medications, and potential toxicity. It is essential to consult with a healthcare provider before using any botanical remedy, especially if you are taking other medications or have underlying health conditions. Additionally, more research is needed to fully understand the mechanisms behind these risks and to develop safer and more effective botanical treatments.\n"
     ]
    }
   ],
   "execution_count": 28
  },
  {
   "cell_type": "code",
   "execution_count": null,
   "metadata": {},
   "outputs": [],
   "source": []
  }
 ],
 "metadata": {
  "kernelspec": {
   "display_name": "ml",
   "language": "python",
   "name": "python3"
  },
  "language_info": {
   "codemirror_mode": {
    "name": "ipython",
    "version": 3
   },
   "file_extension": ".py",
   "mimetype": "text/x-python",
   "name": "python",
   "nbconvert_exporter": "python",
   "pygments_lexer": "ipython3",
   "version": "3.12.4"
  }
 },
 "nbformat": 4,
 "nbformat_minor": 2
}
