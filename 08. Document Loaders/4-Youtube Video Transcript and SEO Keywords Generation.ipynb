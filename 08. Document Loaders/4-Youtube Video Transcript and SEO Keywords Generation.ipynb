{
 "cells": [
  {
   "cell_type": "markdown",
   "metadata": {},
   "source": [
    "# Announcement-on-ML\n",
    "<a href='http://www.kgptalkie.com' target=\"_blank\"> <img src='https://github.com/laxmimerit/Important-Announcement-on-ML/raw/master/kgptalkie_strips.png'/></a>\n",
    "\n",
    "# ML Resources\n",
    "|  ML Course | Description |\n",
    "|:---|:---|\n",
    "| [**Deploy LLM App with Ollama and Langchain in Production**](https://www.udemy.com/course/ollama-and-langchain/?referralCode=7F4C0C7B8CF223BA9327) | Master Langchain v0.3, Private Chatbot, Deploy LLM App.  Ollama, LLAMA, LLAMA 3.2, FAISS, RAG, Deploy RAG, Gen AI, LLM|\n",
    "| [**Fine Tuning LLM with HuggingFace Transformers for NLP**](https://www.udemy.com/course/fine-tuning-llm-with-hugging-face-transformers/?referralCode=6DEB3BE17C2644422D8E) | Learn how to fine tune LLM with custom dataset. You will learn basics of transformers then fine tune LLM|\n",
    "| [**Data Visualization in Python Masterclass™: Beginners to Pro**](https://bit.ly/udemy95off_kgptalkie) |  Learn to build Machine Learning and Deep Learning models using Python and its libraries like Scikit-Learn, Keras, and TensorFlow. |\n",
    "| [**Python for Machine Learning: A Step-by-Step Guide**](https://bit.ly/ml-ds-project) | Learn to build Machine Learning and Deep Learning models using Python and its libraries like Scikit-Learn, Keras, and TensorFlow. |\n",
    "| [**Deep Learning for Beginners with Python**](https://bit.ly/dl-with-python) | Neural Networks, TensorFlow, ANN, CNN, RNN, LSTM, Transfer Learning and Much More. |\n",
    "| [**Python for Linear Regression in Machine Learning**](https://bit.ly/regression-python) | Learn to build Linear Regression models using Python and its libraries like Scikit-Learn. |\n",
    "| [**Introduction to Spacy 3 for Natural Language Processing**](https://bit.ly/spacy-intro) | Learn to build Natural Language Processing models using Python and its libraries like Spacy. |\n",
    "| [**Advanced Machine Learning and Deep Learning Projects**](https://bit.ly/kgptalkie_ml_projects) | Learn to build Advanced Machine Learning and Deep Learning models using Python and transformer models like BERT, GPT-2, and XLNet. |\n",
    "| [**Natural Language Processing in Python for Beginners**](https://bit.ly/intro_nlp) | Learn to build Natural Language Processing Projects using Spacy, NLTK, and Gensim, and transformer models like BERT, GPT-2, and XLNet. |\n",
    "| [**Deployment of Machine Learning Models in Production in Python**](https://bit.ly/bert_nlp) |  Learn to deploy Machine Learning and Deep Learning models using Python and its libraries like Flask, Streamlit, and NGINX. |\n",
    "| [**R 4.0 Programming for Data Science - Beginners to Pro**](https://bit.ly/r4-ml) | Learn to build Machine Learning and Deep Learning models using R and its libraries like caret, tidyverse, and keras. |\n"
   ]
  },
  {
   "cell_type": "markdown",
   "metadata": {},
   "source": [
    "## YouTube Video Transcripts and SEO Keywords Generation"
   ]
  },
  {
   "cell_type": "markdown",
   "metadata": {},
   "source": [
    "- We will see how to generate YouTube video transcripts and SEO keywords using LLM"
   ]
  },
  {
   "cell_type": "code",
   "execution_count": 1,
   "metadata": {},
   "outputs": [],
   "source": [
    "# !pip install youtube-transcript-api pytube"
   ]
  },
  {
   "cell_type": "code",
   "execution_count": 2,
   "metadata": {},
   "outputs": [],
   "source": [
    "# !pip install --upgrade --quiet  \n",
    "\n",
    "# PytubeError: Exception while accessing title of https://youtube.com/watch?v=TKCMw0utiak.\n",
    "# Please file a bug report at https://github.com/pytube/pytube\n",
    "\n",
    "# https://github.com/pytube/pytube/pull/2055/commits\n",
    "\n",
    "# python -m pip install git+https://github.com/WildDIC/pytube.git"
   ]
  },
  {
   "cell_type": "code",
   "metadata": {
    "ExecuteTime": {
     "end_time": "2025-01-26T05:01:05.942216Z",
     "start_time": "2025-01-26T05:01:05.939838Z"
    }
   },
   "source": [
    "from langchain_community.document_loaders import YoutubeLoader\n",
    "from youtube_transcript_api import YouTubeTranscriptApi"
   ],
   "outputs": [],
   "execution_count": 7
  },
  {
   "cell_type": "code",
   "metadata": {
    "ExecuteTime": {
     "end_time": "2025-01-26T05:01:38.614182Z",
     "start_time": "2025-01-26T05:01:37.230518Z"
    }
   },
   "source": [
    "url = \"https://www.youtube.com/watch?v=vCyVVsdKJCg\"\n",
    "# loader = YoutubeLoader.from_youtube_url(url, add_video_info=True)\n",
    "video_id = \"vCyVVsdKJCg\"\n",
    "docs = YouTubeTranscriptApi.get_transcript(video_id)"
   ],
   "outputs": [],
   "execution_count": 11
  },
  {
   "cell_type": "code",
   "metadata": {
    "ExecuteTime": {
     "end_time": "2025-01-26T05:01:23.382052Z",
     "start_time": "2025-01-26T05:01:23.373757Z"
    }
   },
   "source": [
    "docs = loader.load()"
   ],
   "outputs": [
    {
     "ename": "AttributeError",
     "evalue": "'list' object has no attribute 'load'",
     "output_type": "error",
     "traceback": [
      "\u001B[0;31m---------------------------------------------------------------------------\u001B[0m",
      "\u001B[0;31mAttributeError\u001B[0m                            Traceback (most recent call last)",
      "Cell \u001B[0;32mIn[10], line 1\u001B[0m\n\u001B[0;32m----> 1\u001B[0m docs \u001B[38;5;241m=\u001B[39m \u001B[43mloader\u001B[49m\u001B[38;5;241;43m.\u001B[39;49m\u001B[43mload\u001B[49m()\n",
      "\u001B[0;31mAttributeError\u001B[0m: 'list' object has no attribute 'load'"
     ]
    }
   ],
   "execution_count": 10
  },
  {
   "cell_type": "code",
   "metadata": {
    "ExecuteTime": {
     "end_time": "2025-01-26T05:01:41.419915Z",
     "start_time": "2025-01-26T05:01:41.417556Z"
    }
   },
   "source": [
    "doc = docs[0]"
   ],
   "outputs": [],
   "execution_count": 12
  },
  {
   "cell_type": "code",
   "metadata": {
    "ExecuteTime": {
     "end_time": "2025-01-26T05:01:46.069596Z",
     "start_time": "2025-01-26T05:01:46.061042Z"
    }
   },
   "source": [
    "doc.metadata\n",
    "\n",
    "len(doc.page_content)"
   ],
   "outputs": [
    {
     "ename": "AttributeError",
     "evalue": "'dict' object has no attribute 'metadata'",
     "output_type": "error",
     "traceback": [
      "\u001B[0;31m---------------------------------------------------------------------------\u001B[0m",
      "\u001B[0;31mAttributeError\u001B[0m                            Traceback (most recent call last)",
      "Cell \u001B[0;32mIn[13], line 1\u001B[0m\n\u001B[0;32m----> 1\u001B[0m \u001B[43mdoc\u001B[49m\u001B[38;5;241;43m.\u001B[39;49m\u001B[43mmetadata\u001B[49m\n\u001B[1;32m      3\u001B[0m \u001B[38;5;28mlen\u001B[39m(doc\u001B[38;5;241m.\u001B[39mpage_content)\n",
      "\u001B[0;31mAttributeError\u001B[0m: 'dict' object has no attribute 'metadata'"
     ]
    }
   ],
   "execution_count": 13
  },
  {
   "cell_type": "code",
   "metadata": {
    "ExecuteTime": {
     "end_time": "2025-01-26T04:55:26.475678Z",
     "start_time": "2025-01-26T04:55:26.473221Z"
    }
   },
   "source": [
    "### Read youtube video in 10 mins chunks\n",
    "# \n",
    "from langchain_community.document_loaders.youtube import TranscriptFormat \n",
    "\n",
    "loader = YoutubeLoader.from_youtube_url(url, add_video_info=True, transcript_format=TranscriptFormat.CHUNKS, chunk_size_seconds=600)"
   ],
   "outputs": [],
   "execution_count": 4
  },
  {
   "cell_type": "code",
   "metadata": {
    "ExecuteTime": {
     "end_time": "2025-01-26T04:55:28.535142Z",
     "start_time": "2025-01-26T04:55:26.751884Z"
    }
   },
   "source": [
    "docs = loader.load()"
   ],
   "outputs": [
    {
     "ename": "PytubeError",
     "evalue": "Exception while accessing title of https://youtube.com/watch?v=vCyVVsdKJCg. Please file a bug report at https://github.com/pytube/pytube",
     "output_type": "error",
     "traceback": [
      "\u001B[0;31m---------------------------------------------------------------------------\u001B[0m",
      "\u001B[0;31mKeyError\u001B[0m                                  Traceback (most recent call last)",
      "File \u001B[0;32m~/.virtualenvs/python3.12Chat/lib/python3.12/site-packages/pytube/__main__.py:341\u001B[0m, in \u001B[0;36mYouTube.title\u001B[0;34m(self)\u001B[0m\n\u001B[1;32m    340\u001B[0m \u001B[38;5;28;01mtry\u001B[39;00m:\n\u001B[0;32m--> 341\u001B[0m     \u001B[38;5;28mself\u001B[39m\u001B[38;5;241m.\u001B[39m_title \u001B[38;5;241m=\u001B[39m \u001B[38;5;28;43mself\u001B[39;49m\u001B[38;5;241;43m.\u001B[39;49m\u001B[43mvid_info\u001B[49m\u001B[43m[\u001B[49m\u001B[38;5;124;43m'\u001B[39;49m\u001B[38;5;124;43mvideoDetails\u001B[39;49m\u001B[38;5;124;43m'\u001B[39;49m\u001B[43m]\u001B[49m[\u001B[38;5;124m'\u001B[39m\u001B[38;5;124mtitle\u001B[39m\u001B[38;5;124m'\u001B[39m]\n\u001B[1;32m    342\u001B[0m \u001B[38;5;28;01mexcept\u001B[39;00m \u001B[38;5;167;01mKeyError\u001B[39;00m:\n\u001B[1;32m    343\u001B[0m     \u001B[38;5;66;03m# Check_availability will raise the correct exception in most cases\u001B[39;00m\n\u001B[1;32m    344\u001B[0m     \u001B[38;5;66;03m#  if it doesn't, ask for a report.\u001B[39;00m\n",
      "\u001B[0;31mKeyError\u001B[0m: 'videoDetails'",
      "\nDuring handling of the above exception, another exception occurred:\n",
      "\u001B[0;31mPytubeError\u001B[0m                               Traceback (most recent call last)",
      "Cell \u001B[0;32mIn[5], line 1\u001B[0m\n\u001B[0;32m----> 1\u001B[0m docs \u001B[38;5;241m=\u001B[39m \u001B[43mloader\u001B[49m\u001B[38;5;241;43m.\u001B[39;49m\u001B[43mload\u001B[49m\u001B[43m(\u001B[49m\u001B[43m)\u001B[49m\n",
      "File \u001B[0;32m~/.virtualenvs/python3.12Chat/lib/python3.12/site-packages/langchain_community/document_loaders/youtube.py:257\u001B[0m, in \u001B[0;36mYoutubeLoader.load\u001B[0;34m(self)\u001B[0m\n\u001B[1;32m    249\u001B[0m     \u001B[38;5;28;01mraise\u001B[39;00m \u001B[38;5;167;01mImportError\u001B[39;00m(\n\u001B[1;32m    250\u001B[0m         \u001B[38;5;124m'\u001B[39m\u001B[38;5;124mCould not import \u001B[39m\u001B[38;5;124m\"\u001B[39m\u001B[38;5;124myoutube_transcript_api\u001B[39m\u001B[38;5;124m\"\u001B[39m\u001B[38;5;124m Python package. \u001B[39m\u001B[38;5;124m'\u001B[39m\n\u001B[1;32m    251\u001B[0m         \u001B[38;5;124m\"\u001B[39m\u001B[38;5;124mPlease install it with `pip install youtube-transcript-api`.\u001B[39m\u001B[38;5;124m\"\u001B[39m\n\u001B[1;32m    252\u001B[0m     )\n\u001B[1;32m    254\u001B[0m \u001B[38;5;28;01mif\u001B[39;00m \u001B[38;5;28mself\u001B[39m\u001B[38;5;241m.\u001B[39madd_video_info:\n\u001B[1;32m    255\u001B[0m     \u001B[38;5;66;03m# Get more video meta info\u001B[39;00m\n\u001B[1;32m    256\u001B[0m     \u001B[38;5;66;03m# Such as title, description, thumbnail url, publish_date\u001B[39;00m\n\u001B[0;32m--> 257\u001B[0m     video_info \u001B[38;5;241m=\u001B[39m \u001B[38;5;28;43mself\u001B[39;49m\u001B[38;5;241;43m.\u001B[39;49m\u001B[43m_get_video_info\u001B[49m\u001B[43m(\u001B[49m\u001B[43m)\u001B[49m\n\u001B[1;32m    258\u001B[0m     \u001B[38;5;28mself\u001B[39m\u001B[38;5;241m.\u001B[39m_metadata\u001B[38;5;241m.\u001B[39mupdate(video_info)\n\u001B[1;32m    260\u001B[0m \u001B[38;5;28;01mtry\u001B[39;00m:\n",
      "File \u001B[0;32m~/.virtualenvs/python3.12Chat/lib/python3.12/site-packages/langchain_community/document_loaders/youtube.py:324\u001B[0m, in \u001B[0;36mYoutubeLoader._get_video_info\u001B[0;34m(self)\u001B[0m\n\u001B[1;32m    318\u001B[0m     \u001B[38;5;28;01mraise\u001B[39;00m \u001B[38;5;167;01mImportError\u001B[39;00m(\n\u001B[1;32m    319\u001B[0m         \u001B[38;5;124m'\u001B[39m\u001B[38;5;124mCould not import \u001B[39m\u001B[38;5;124m\"\u001B[39m\u001B[38;5;124mpytube\u001B[39m\u001B[38;5;124m\"\u001B[39m\u001B[38;5;124m Python package. \u001B[39m\u001B[38;5;124m'\u001B[39m\n\u001B[1;32m    320\u001B[0m         \u001B[38;5;124m\"\u001B[39m\u001B[38;5;124mPlease install it with `pip install pytube`.\u001B[39m\u001B[38;5;124m\"\u001B[39m\n\u001B[1;32m    321\u001B[0m     )\n\u001B[1;32m    322\u001B[0m yt \u001B[38;5;241m=\u001B[39m YouTube(\u001B[38;5;124mf\u001B[39m\u001B[38;5;124m\"\u001B[39m\u001B[38;5;124mhttps://www.youtube.com/watch?v=\u001B[39m\u001B[38;5;132;01m{\u001B[39;00m\u001B[38;5;28mself\u001B[39m\u001B[38;5;241m.\u001B[39mvideo_id\u001B[38;5;132;01m}\u001B[39;00m\u001B[38;5;124m\"\u001B[39m)\n\u001B[1;32m    323\u001B[0m video_info \u001B[38;5;241m=\u001B[39m {\n\u001B[0;32m--> 324\u001B[0m     \u001B[38;5;124m\"\u001B[39m\u001B[38;5;124mtitle\u001B[39m\u001B[38;5;124m\"\u001B[39m: \u001B[43myt\u001B[49m\u001B[38;5;241;43m.\u001B[39;49m\u001B[43mtitle\u001B[49m \u001B[38;5;129;01mor\u001B[39;00m \u001B[38;5;124m\"\u001B[39m\u001B[38;5;124mUnknown\u001B[39m\u001B[38;5;124m\"\u001B[39m,\n\u001B[1;32m    325\u001B[0m     \u001B[38;5;124m\"\u001B[39m\u001B[38;5;124mdescription\u001B[39m\u001B[38;5;124m\"\u001B[39m: yt\u001B[38;5;241m.\u001B[39mdescription \u001B[38;5;129;01mor\u001B[39;00m \u001B[38;5;124m\"\u001B[39m\u001B[38;5;124mUnknown\u001B[39m\u001B[38;5;124m\"\u001B[39m,\n\u001B[1;32m    326\u001B[0m     \u001B[38;5;124m\"\u001B[39m\u001B[38;5;124mview_count\u001B[39m\u001B[38;5;124m\"\u001B[39m: yt\u001B[38;5;241m.\u001B[39mviews \u001B[38;5;129;01mor\u001B[39;00m \u001B[38;5;241m0\u001B[39m,\n\u001B[1;32m    327\u001B[0m     \u001B[38;5;124m\"\u001B[39m\u001B[38;5;124mthumbnail_url\u001B[39m\u001B[38;5;124m\"\u001B[39m: yt\u001B[38;5;241m.\u001B[39mthumbnail_url \u001B[38;5;129;01mor\u001B[39;00m \u001B[38;5;124m\"\u001B[39m\u001B[38;5;124mUnknown\u001B[39m\u001B[38;5;124m\"\u001B[39m,\n\u001B[1;32m    328\u001B[0m     \u001B[38;5;124m\"\u001B[39m\u001B[38;5;124mpublish_date\u001B[39m\u001B[38;5;124m\"\u001B[39m: yt\u001B[38;5;241m.\u001B[39mpublish_date\u001B[38;5;241m.\u001B[39mstrftime(\u001B[38;5;124m\"\u001B[39m\u001B[38;5;124m%\u001B[39m\u001B[38;5;124mY-\u001B[39m\u001B[38;5;124m%\u001B[39m\u001B[38;5;124mm-\u001B[39m\u001B[38;5;132;01m%d\u001B[39;00m\u001B[38;5;124m \u001B[39m\u001B[38;5;124m%\u001B[39m\u001B[38;5;124mH:\u001B[39m\u001B[38;5;124m%\u001B[39m\u001B[38;5;124mM:\u001B[39m\u001B[38;5;124m%\u001B[39m\u001B[38;5;124mS\u001B[39m\u001B[38;5;124m\"\u001B[39m)\n\u001B[1;32m    329\u001B[0m     \u001B[38;5;28;01mif\u001B[39;00m yt\u001B[38;5;241m.\u001B[39mpublish_date\n\u001B[1;32m    330\u001B[0m     \u001B[38;5;28;01melse\u001B[39;00m \u001B[38;5;124m\"\u001B[39m\u001B[38;5;124mUnknown\u001B[39m\u001B[38;5;124m\"\u001B[39m,\n\u001B[1;32m    331\u001B[0m     \u001B[38;5;124m\"\u001B[39m\u001B[38;5;124mlength\u001B[39m\u001B[38;5;124m\"\u001B[39m: yt\u001B[38;5;241m.\u001B[39mlength \u001B[38;5;129;01mor\u001B[39;00m \u001B[38;5;241m0\u001B[39m,\n\u001B[1;32m    332\u001B[0m     \u001B[38;5;124m\"\u001B[39m\u001B[38;5;124mauthor\u001B[39m\u001B[38;5;124m\"\u001B[39m: yt\u001B[38;5;241m.\u001B[39mauthor \u001B[38;5;129;01mor\u001B[39;00m \u001B[38;5;124m\"\u001B[39m\u001B[38;5;124mUnknown\u001B[39m\u001B[38;5;124m\"\u001B[39m,\n\u001B[1;32m    333\u001B[0m }\n\u001B[1;32m    334\u001B[0m \u001B[38;5;28;01mreturn\u001B[39;00m video_info\n",
      "File \u001B[0;32m~/.virtualenvs/python3.12Chat/lib/python3.12/site-packages/pytube/__main__.py:346\u001B[0m, in \u001B[0;36mYouTube.title\u001B[0;34m(self)\u001B[0m\n\u001B[1;32m    342\u001B[0m \u001B[38;5;28;01mexcept\u001B[39;00m \u001B[38;5;167;01mKeyError\u001B[39;00m:\n\u001B[1;32m    343\u001B[0m     \u001B[38;5;66;03m# Check_availability will raise the correct exception in most cases\u001B[39;00m\n\u001B[1;32m    344\u001B[0m     \u001B[38;5;66;03m#  if it doesn't, ask for a report.\u001B[39;00m\n\u001B[1;32m    345\u001B[0m     \u001B[38;5;28mself\u001B[39m\u001B[38;5;241m.\u001B[39mcheck_availability()\n\u001B[0;32m--> 346\u001B[0m     \u001B[38;5;28;01mraise\u001B[39;00m exceptions\u001B[38;5;241m.\u001B[39mPytubeError(\n\u001B[1;32m    347\u001B[0m         (\n\u001B[1;32m    348\u001B[0m             \u001B[38;5;124mf\u001B[39m\u001B[38;5;124m'\u001B[39m\u001B[38;5;124mException while accessing title of \u001B[39m\u001B[38;5;132;01m{\u001B[39;00m\u001B[38;5;28mself\u001B[39m\u001B[38;5;241m.\u001B[39mwatch_url\u001B[38;5;132;01m}\u001B[39;00m\u001B[38;5;124m. \u001B[39m\u001B[38;5;124m'\u001B[39m\n\u001B[1;32m    349\u001B[0m             \u001B[38;5;124m'\u001B[39m\u001B[38;5;124mPlease file a bug report at https://github.com/pytube/pytube\u001B[39m\u001B[38;5;124m'\u001B[39m\n\u001B[1;32m    350\u001B[0m         )\n\u001B[1;32m    351\u001B[0m     )\n\u001B[1;32m    353\u001B[0m \u001B[38;5;28;01mreturn\u001B[39;00m \u001B[38;5;28mself\u001B[39m\u001B[38;5;241m.\u001B[39m_title\n",
      "\u001B[0;31mPytubeError\u001B[0m: Exception while accessing title of https://youtube.com/watch?v=vCyVVsdKJCg. Please file a bug report at https://github.com/pytube/pytube"
     ]
    }
   ],
   "execution_count": 5
  },
  {
   "cell_type": "code",
   "execution_count": 19,
   "metadata": {},
   "outputs": [
    {
     "data": {
      "text/plain": [
       "{'source': 'https://www.youtube.com/watch?v=vCyVVsdKJCg&t=1200s',\n",
       " 'title': 'Deploy LLM Application on AWS EC2 with Langchain and Ollama | Deploy LLAMA 3.2 App',\n",
       " 'description': 'Local LLM Tutorial Playlist: https://www.youtube.com/playlist?list=PLc2rvfiptPSReropGbvDFpB6dneNBwqhD\\n\\nIn this tutorial, I’ll walk you through the step-by-step process of deploying your AI-powered chat application using LangChain, Llama, and Streamlit on AWS EC2. Whether you’re building an LLM chatbot for personal projects or for production, this guide covers everything you need to know about:\\n\\n- Launching an EC2 instance on AWS\\n- Selecting the right AMI and instance type (Deep Learning AMI with Nvidia GPU, C7 Intel-powered instances)\\n- Installing LangChain, AMA, and Streamlit\\n- Cloning your project from GitHub to EC2\\n- Configuring security groups and ports for external access\\n- Running and hosting your chat app on AWS EC2 efficiently\\n- Ensuring persistent app operation with screen.\\n\\nCheck out the full source code on GitHub and learn how to host your LLM chat app with low latency and minimal cost.\\n\\nDeployment of Machine Learning Models in Production in Python:\\nhttps://bit.ly/bert_nlp\\n\\nPrevious Video:\\nhttps://youtu.be/uRV49nK-BOU\\n\\nCode Files:\\nhttps://github.com/laxmimerit/ollama-chatbot\\n\\nStreamlit Tutorials:\\nhttps://youtu.be/hff2tHUzxJM?si=aQiEDqW0m804N8j_\\n\\n\\n🔊 Watch till last for a detailed description\\n\\n💯 Read Full Blog with Code\\n       https://kgptalkie.com\\n💬 Leave your comments and doubts in the comment section\\n📌 Save this channel and video for watch later\\n👍 Like this video to show your support and love ❤️\\n\\n~~~~~~~~\\n🆓 Watch My Top Free Data Science Videos\\n👉🏻 Python for Data Scientist\\n      https://bit.ly/3dETtFb\\n👉🏻 Machine Learning for Beginners\\n      https://bit.ly/2WOVh7N\\n👉🏻 Feature Selection in Machine Learning\\n      https://bit.ly/2YW6ZQH\\n👉🏻 Text Preprocessing and Mining for NLP\\n       https://bit.ly/31sYMUN\\n👉🏻 Natural Language Processing (NLP)\\n      Tutorials https://bit.ly/3dF1cTL\\n👉🏻 Deep Learning with TensorFlow 2.0\\n      and Keras https://bit.ly/3dFl09G\\n👉🏻 COVID 19 Data Analysis and Visualization\\n      Masterclass https://bit.ly/31vNC1U\\n👉🏻 Machine Learning Model Deployment Using\\n      Flask at AWS https://bit.ly/3b1svaD\\n👉🏻 Make Your Own Automated Email Marketing\\n      Software in Python https://bit.ly/2QqLaDy\\n\\n***********\\n🤝 BE MY FRIEND\\n🌍 Check Out ML Blogs:  https://kgptalkie.com\\n🐦Add me on Twitter: https://twitter.com/laxmimerit\\n📄 Follow me on GitHub: https://github.com/laxmimerit\\n📕 Add me on Facebook: https://facebook.com/kgptalkie\\n💼 Add me on LinkedIn: https://linkedin.com/in/laxmimerit\\n👉🏻 Complete Udemy Courses: https://bit.ly/32taBK2\\n⚡ Check out my Recent Videos: https://bit.ly/3ldnbWm\\n🔔 Subscribe me for Free Videos: https://bit.ly/34wN6T6\\n🤑 Get in touch for Promotion: info@kgptalkie.com\\n\\n✍️🏆🏅🎁🎊🎉✌️👌⭐⭐⭐⭐⭐\\nENROLL in My Highest Rated Udemy Courses\\nto 🔑 Crack Data Science Interviews and Jobs\\n\\n🏅🎁 Python for Machine Learning: A Step-by-Step Guide | Udemy\\nCourse Link: https://bit.ly/ml-ds-project\\n\\n🎁🎊 Deep Learning for Beginners with Python\\nCourse Link: https://bit.ly/dl-with-python\\n\\n📚 📗 Natural Language Processing ML Model Deployment at AWS\\nCourse Link: https://bit.ly/bert_nlp\\n\\n📊 📈 Data Visualization in Python Masterclass: Beginners to Pro\\nCourse Link: https://bit.ly/udemy95off_kgptalkie\\n\\n📘 📙 Natural Language Processing (NLP) in Python for Beginners\\nCourse Link: https://bit.ly/intro_nlp\\n\\n🎉✌️ Advanced Natural Language and Image Processing Projects | Udemy\\nCourse Link: https://bit.ly/kgptalkie_ml_projects\\n\\n📈 📘 Python for Linear Regression in Machine Learning\\nCourse Link: https://bit.ly/regression-python\\n\\n📙📊 R 4.0 Programming for Data Science || Beginners to Pro\\nCourse Link: http://bit.ly/r4-ml\\n\\n✍️🏆 Introduction to Spacy 3 for Natural Language Processing\\nCourse Link: https://bit.ly/spacy-intro',\n",
       " 'view_count': 297,\n",
       " 'thumbnail_url': 'https://i.ytimg.com/vi/vCyVVsdKJCg/sddefault.jpg',\n",
       " 'publish_date': '2024-10-20 00:00:00',\n",
       " 'length': 1763,\n",
       " 'author': 'KGP Talkie',\n",
       " 'start_seconds': 1200,\n",
       " 'start_timestamp': '00:20:00'}"
      ]
     },
     "execution_count": 19,
     "metadata": {},
     "output_type": "execute_result"
    }
   ],
   "source": [
    "docs[2].metadata"
   ]
  },
  {
   "cell_type": "code",
   "execution_count": 22,
   "metadata": {},
   "outputs": [
    {
     "data": {
      "text/plain": [
       "1983"
      ]
     },
     "execution_count": 22,
     "metadata": {},
     "output_type": "execute_result"
    }
   ],
   "source": [
    "len(docs[2].page_content)//4"
   ]
  },
  {
   "cell_type": "code",
   "execution_count": 23,
   "metadata": {},
   "outputs": [],
   "source": [
    "### Use LLM to generate youtube video keyword"
   ]
  },
  {
   "cell_type": "code",
   "execution_count": 24,
   "metadata": {},
   "outputs": [],
   "source": [
    "from scripts import  llm"
   ]
  },
  {
   "cell_type": "code",
   "execution_count": 25,
   "metadata": {},
   "outputs": [],
   "source": [
    "question = \"\"\"You are an assistant for generating SEO keywords for YouTube.\n",
    "            Please generate a list of keywords from the above context.\n",
    "            You can use your creativity and correct spelling if it is needed.\"\"\"\n",
    "\n",
    "keywords = []\n",
    "for doc in docs:\n",
    "    kws = llm.ask_llm(context=doc.page_content, question=question)\n",
    "    keywords.append(kws)\n"
   ]
  },
  {
   "cell_type": "code",
   "execution_count": 27,
   "metadata": {},
   "outputs": [],
   "source": [
    "keywords = \", \".join(keywords)"
   ]
  },
  {
   "cell_type": "code",
   "execution_count": 29,
   "metadata": {},
   "outputs": [],
   "source": [
    "# print(keywords)"
   ]
  },
  {
   "cell_type": "code",
   "execution_count": 30,
   "metadata": {},
   "outputs": [],
   "source": [
    "question = \"\"\"Above context is the list of relevant keywords for a YouTube video.\n",
    "                You need to generate SEO Keywords for it.\"\"\"\n",
    "\n",
    "response = llm.ask_llm(context=keywords, question=question)"
   ]
  },
  {
   "cell_type": "code",
   "execution_count": 31,
   "metadata": {},
   "outputs": [
    {
     "name": "stdout",
     "output_type": "stream",
     "text": [
      "Based on the provided context, here are some generated SEO keywords that could be used for the YouTube video:\n",
      "\n",
      "**Primary Keywords**\n",
      "\n",
      "1. \"Host chat application on AWS\"\n",
      "2. \"AMA on AWS E2 services\"\n",
      "3. \"LangChain on AWS\"\n",
      "4. \"Streamlit application hosting\"\n",
      "5. \"AWS EC2 instance setup\"\n",
      "\n",
      "**Secondary Keywords**\n",
      "\n",
      "1. \"Cloud computing for chat applications\"\n",
      "2. \"AI and ML on AWS\"\n",
      "3. \"Deep learning on AWS E2 services\"\n",
      "4. \"GPU-enabled deep learning on AWS\"\n",
      "5. \"PyTorch on AWS\"\n",
      "\n",
      "**Long-tail Keywords**\n",
      "\n",
      "1. \"Hosting a chat application with AMA and LangChain on AWS E2 services\"\n",
      "2. \"Setting up Streamlit application on AWS EC2 instance\"\n",
      "3. \"Best practices for deploying AI models on AWS\"\n",
      "4. \"Streamlit-based chat applications on AWS cloud\"\n",
      "5. \"LangChain tutorial on AWS E2 services\"\n",
      "\n",
      "Additionally, some more long-tail keywords could be:\n",
      "\n",
      "1. \"AWS chat application development\"\n",
      "2. \"AMA chatbot development on AWS\"\n",
      "3. \"Deep learning chatbots on AWS EC2\"\n",
      "4. \"Cloud-based LangChain implementation\"\n",
      "5. \"Streamlit for chat applications on AWS\"\n"
     ]
    }
   ],
   "source": [
    "print(response)"
   ]
  }
 ],
 "metadata": {
  "kernelspec": {
   "display_name": "ml",
   "language": "python",
   "name": "python3"
  },
  "language_info": {
   "codemirror_mode": {
    "name": "ipython",
    "version": 3
   },
   "file_extension": ".py",
   "mimetype": "text/x-python",
   "name": "python",
   "nbconvert_exporter": "python",
   "pygments_lexer": "ipython3",
   "version": "3.12.4"
  }
 },
 "nbformat": 4,
 "nbformat_minor": 2
}
